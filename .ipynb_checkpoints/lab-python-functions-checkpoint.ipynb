{
 "cells": [
  {
   "cell_type": "markdown",
   "id": "25d7736c-ba17-4aff-b6bb-66eba20fbf4e",
   "metadata": {},
   "source": [
    "# Lab | Functions"
   ]
  },
  {
   "cell_type": "markdown",
   "id": "0c581062-8967-4d93-b06e-62833222f930",
   "metadata": {
    "tags": []
   },
   "source": [
    "## Exercise: Managing Customer Orders with Functions\n",
    "\n",
    "In the previous exercise, you improved the code for managing customer orders by using loops and flow control. Now, let's take it a step further and refactor the code by introducing functions.\n",
    "\n",
    "Follow the steps below to complete the exercise:\n",
    "\n",
    "1. Define a function named `initialize_inventory` that takes `products` as a parameter. Inside the function, implement the code for initializing the inventory dictionary using a loop and user input.\n",
    "\n",
    "2. Define a function named `get_customer_orders` that takes no parameters. Inside the function, implement the code for prompting the user to enter the product names using a loop. The function should return the `customer_orders` set.\n",
    "\n",
    "3. Define a function named `update_inventory` that takes `customer_orders` and `inventory` as parameters. Inside the function, implement the code for updating the inventory dictionary based on the customer orders.\n",
    "\n",
    "4. Define a function named `calculate_order_statistics` that takes `customer_orders` and `products` as parameters. Inside the function, implement the code for calculating the order statistics (total products ordered, and percentage of unique products ordered). The function should return these values.\n",
    "\n",
    "5. Define a function named `print_order_statistics` that takes `order_statistics` as a parameter. Inside the function, implement the code for printing the order statistics.\n",
    "\n",
    "6. Define a function named `print_updated_inventory` that takes `inventory` as a parameter. Inside the function, implement the code for printing the updated inventory.\n",
    "\n",
    "7. Call the functions in the appropriate sequence to execute the program and manage customer orders.\n",
    "\n",
    "Hints for functions:\n",
    "\n",
    "- Consider the input parameters required for each function and their return values.\n",
    "- Utilize function parameters and return values to transfer data between functions.\n",
    "- Test your functions individually to ensure they work correctly.\n",
    "\n",
    "\n"
   ]
  },
  {
   "cell_type": "code",
   "execution_count": 33,
   "id": "6cd923c8-ec0c-4ddc-98a7-e5144b08063e",
   "metadata": {},
   "outputs": [
    {
     "name": "stdin",
     "output_type": "stream",
     "text": [
      "Please enter the quantity for t-shirt:  1\n",
      "Please enter the quantity for mug:  2\n",
      "Please enter the quantity for hat:  3\n",
      "Please enter the quantity for book:  4\n",
      "Please enter the quantity for keychain:  5\n"
     ]
    },
    {
     "data": {
      "text/plain": [
       "{'t-shirt': 1, 'mug': 2, 'hat': 3, 'book': 4, 'keychain': 5}"
      ]
     },
     "execution_count": 33,
     "metadata": {},
     "output_type": "execute_result"
    }
   ],
   "source": [
    "# Task 1 Define a function named initialize_inventory that takes products as a parameter. Inside the function, implement the code for initializing the inventory dictionary using a loop and user input.\n",
    "\n",
    "products = [\"t-shirt\", \"mug\", \"hat\", \"book\", \"keychain\"]\n",
    "\n",
    "def initialize_inventory(products):\n",
    "    inventory = {}\n",
    "    for item in products:\n",
    "        quantity = int(input(f\"Please enter the quantity for {item}: \"))\n",
    "        inventory[item] = quantity\n",
    "    return inventory\n",
    "\n",
    "\n",
    "initialize_inventory([\"t-shirt\", \"mug\", \"hat\", \"book\", \"keychain\"])\n"
   ]
  },
  {
   "cell_type": "code",
   "execution_count": 20,
   "id": "9ce218f6-ccea-47d5-856c-c7138dfc109a",
   "metadata": {},
   "outputs": [
    {
     "name": "stdin",
     "output_type": "stream",
     "text": [
      "Enter the name of a product that you want:  hat\n",
      "Do you want to add another product (yes/no) no\n"
     ]
    }
   ],
   "source": [
    "# Task 2 Define a function named get_customer_orders that takes no parameters. Inside the function, implement the code for prompting the user to enter the product names using a loop. The function should return the customer_orders set.\n",
    "\n",
    "def get_customer_orders():\n",
    "    custome_orders = set()\n",
    "\n",
    "    user_product = input(\"Enter the name of a product that you want: \")\n",
    "    custome_orders.add(user_product)\n",
    "\n",
    "    user_command = input (\"Do you want to add another product (yes/no)\")\n",
    "\n",
    "    while user_command != 'no':\n",
    "        user_product_2 = input(\"Enter the name of a product that you want: \")\n",
    "        custome_orders.add(user_product_2)\n",
    "        user_command = input (\"Do you want to add another product (yes/no)\")\n",
    "\n",
    "    return custome_orders\n",
    "\n",
    "custome_orders = get_customer_orders()\n",
    "\n",
    "\n"
   ]
  },
  {
   "cell_type": "code",
   "execution_count": 21,
   "id": "cf6fe060-12c1-4456-8a60-98395d85ddc3",
   "metadata": {},
   "outputs": [
    {
     "data": {
      "text/plain": [
       "{'t-shirt': 1, 'mug': 2, 'hat': 2, 'book': 4, 'keychain': 5}"
      ]
     },
     "execution_count": 21,
     "metadata": {},
     "output_type": "execute_result"
    }
   ],
   "source": [
    "# Task 3 Define a function named update_inventory that takes customer_orders and inventory as parameters. Inside the function, implement the code for updating the inventory dictionary based on the customer orders.\n",
    "\n",
    "inventory = {'t-shirt': 1, 'mug': 2, 'hat': 3, 'book': 4, 'keychain': 5}\n",
    "\n",
    "\n",
    "def update_inventory(order, inventory):\n",
    "    for order, value in inventory.items():\n",
    "        if order in custome_orders:\n",
    "             inventory[order] = value - 1\n",
    "        else:\n",
    "            pass\n",
    "    return inventory\n",
    "\n",
    "update_inventory(custome_orders, inventory)\n",
    "\n"
   ]
  },
  {
   "cell_type": "code",
   "execution_count": 29,
   "id": "4656d00c-a97d-4026-84c1-0e5ac413ac2c",
   "metadata": {},
   "outputs": [],
   "source": [
    "# Task 4 Define a function named calculate_order_statistics that takes customer_orders and products as parameters. \n",
    "# Inside the function, implement the code for calculating the order statistics (total products ordered, and percentage of unique products ordered). The function should return these values.\n",
    "\n",
    "\n",
    "def calculate_order_statistics(custome_orders, products):\n",
    "    order_statistics = str(1 / len(custome_orders) * 100) + \" %\"\n",
    "    return order_statistics\n",
    "\n",
    "order_statistics = calculate_order_statistics(\"hat\", products)\n"
   ]
  },
  {
   "cell_type": "code",
   "execution_count": 30,
   "id": "f8c6f338-171f-43c6-a576-2f38191fb00d",
   "metadata": {},
   "outputs": [
    {
     "name": "stdout",
     "output_type": "stream",
     "text": [
      "33.33333333333333 %\n"
     ]
    }
   ],
   "source": [
    "# Task 5 Define a function named print_order_statistics that takes order_statistics as a parameter. \n",
    "# Inside the function, implement the code for printing the order statistics.\n",
    "\n",
    "def print_order_statistics(order_statistics):\n",
    "    return print(order_statistics)\n",
    "    \n",
    "print_order_statistics(order_statistics)"
   ]
  },
  {
   "cell_type": "code",
   "execution_count": 32,
   "id": "c5711de6-76b1-4c29-9ceb-3a691d5d8da2",
   "metadata": {},
   "outputs": [
    {
     "name": "stdout",
     "output_type": "stream",
     "text": [
      "{'t-shirt': 1, 'mug': 2, 'hat': 2, 'book': 4, 'keychain': 5}\n"
     ]
    }
   ],
   "source": [
    "# Task 6 Define a function named print_updated_inventory that takes inventory as a parameter. \n",
    "# Inside the function, implement the code for printing the updated inventory.\n",
    "\n",
    "def print_updated_inventory(inventory):\n",
    "    return print(inventory)  \n",
    "\n",
    "print_updated_inventory(inventory)"
   ]
  },
  {
   "cell_type": "code",
   "execution_count": 36,
   "id": "f9ab45b4-11a6-4296-b03e-5bd7be27efc6",
   "metadata": {},
   "outputs": [
    {
     "name": "stdin",
     "output_type": "stream",
     "text": [
      "Please enter the quantity for t-shirt:  1\n",
      "Please enter the quantity for mug:  2\n",
      "Please enter the quantity for hat:  3\n",
      "Please enter the quantity for book:  4\n",
      "Please enter the quantity for keychain:  5\n",
      "Enter the name of a product that you want:  hat\n",
      "Do you want to add another product (yes/no) no\n"
     ]
    },
    {
     "name": "stdout",
     "output_type": "stream",
     "text": [
      "100.0 %\n",
      "{'t-shirt': 1, 'mug': 2, 'hat': 1, 'book': 4, 'keychain': 5}\n"
     ]
    }
   ],
   "source": [
    "# Task 7 Call the functions in the appropriate sequence to execute the program and manage customer orders.\n",
    "\n",
    "products = initialize_inventory([\"t-shirt\", \"mug\", \"hat\", \"book\", \"keychain\"])\n",
    "\n",
    "custome_orders = get_customer_orders()\n",
    "\n",
    "updated_inventory = update_inventory(custome_orders, inventory)\n",
    "\n",
    "order_statistics = calculate_order_statistics(custome_orders, products)\n",
    "\n",
    "print_order_statistics(order_statistics)\n",
    "\n",
    "print_updated_inventory(inventory)"
   ]
  },
  {
   "cell_type": "code",
   "execution_count": null,
   "id": "d2d0585d-4068-4f22-8264-37b3c4bc303f",
   "metadata": {},
   "outputs": [],
   "source": []
  }
 ],
 "metadata": {
  "kernelspec": {
   "display_name": "Python 3 (ipykernel)",
   "language": "python",
   "name": "python3"
  },
  "language_info": {
   "codemirror_mode": {
    "name": "ipython",
    "version": 3
   },
   "file_extension": ".py",
   "mimetype": "text/x-python",
   "name": "python",
   "nbconvert_exporter": "python",
   "pygments_lexer": "ipython3",
   "version": "3.11.7"
  }
 },
 "nbformat": 4,
 "nbformat_minor": 5
}
